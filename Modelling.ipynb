{
 "cells": [
  {
   "cell_type": "code",
   "execution_count": 1,
   "metadata": {},
   "outputs": [],
   "source": [
    "import numpy as np\n",
    "import pandas as pd\n",
    "import seaborn as sns\n",
    "import matplotlib.pyplot as plt\n",
    "%matplotlib inline\n",
    "import warnings\n",
    "warnings.filterwarnings('ignore')\n",
    "pd.set_option('display.max_row',500)\n",
    "pd.options.display.max_columns = 150\n",
    "from sklearn.feature_selection import SelectKBest\n",
    "from sklearn.feature_selection import f_classif\n",
    "from sklearn.linear_model import LogisticRegression\n",
    "from sklearn.neighbors import KNeighborsClassifier\n",
    "from sklearn.ensemble import GradientBoostingClassifier\n",
    "import xgboost as xgb\n",
    "from sklearn.metrics import accuracy_score,precision_score,recall_score,confusion_matrix,classification_report,roc_auc_score,roc_curve,f1_score"
   ]
  },
  {
   "cell_type": "code",
   "execution_count": 2,
   "metadata": {},
   "outputs": [],
   "source": [
    "df_train=pd.read_csv('C:/Users/hp/Desktop/DSP/New folder (2)/Python/Credit risk/Preprocessed_Train_data.csv')"
   ]
  },
  {
   "cell_type": "code",
   "execution_count": 3,
   "metadata": {},
   "outputs": [],
   "source": [
    "df_test=pd.read_csv('C:/Users/hp/Desktop/DSP/New folder (2)/Python/Credit risk/Preprocessed_Test_data.csv')"
   ]
  },
  {
   "cell_type": "code",
   "execution_count": 4,
   "metadata": {},
   "outputs": [],
   "source": [
    "df_test.drop(['out_prncp','total_rec_prncp'],axis=1,inplace=True)\n",
    "df_train.drop(['out_prncp','total_rec_prncp'],axis=1,inplace=True)"
   ]
  },
  {
   "cell_type": "code",
   "execution_count": null,
   "metadata": {},
   "outputs": [],
   "source": [
    "#Initially the  model performed poorly giving accuracy as 4% since it was giving very high no. of false negatives\n",
    "Confusion Matrix : \n",
    " [[ 11244 245436]\n",
    " [     4    307]]\n",
    "#From the above Confusion Matrix we can see that the model is classifying majority of the 0's as 1.\n",
    "#Analysis- out_prncp was one of the major predictor which was misleading the model. out_prncp is zero for non defaulters and charged off loans\n",
    "greater than zero for defaulters and although this condition is true in case of training data so our model performs well with train data.\n",
    "But in case of test data which is the recent one and majority of the loans with default_ind=0 are current which means the loan is stillnot payed fully hence the\n",
    "out_prncp for these loans are greater than zero \n",
    "Dropping out_prncp improved the performance and accuracy as 44%\n",
    "#total_rec_prncp = loan amount for non defaulters but since our test data contains loans with default_ind=0 which are current \n",
    "so for test data total_rec_prncp < loan amount. dropped this variable and improved the accuracy to 74% \n"
   ]
  },
  {
   "cell_type": "code",
   "execution_count": 5,
   "metadata": {},
   "outputs": [],
   "source": [
    "X_train,y_train=df_train.drop(['default_ind'],axis=1),df_train['default_ind']"
   ]
  },
  {
   "cell_type": "code",
   "execution_count": 6,
   "metadata": {},
   "outputs": [],
   "source": [
    "X_test,y_test=df_test.drop(['default_ind'],axis=1),df_test['default_ind']"
   ]
  },
  {
   "cell_type": "code",
   "execution_count": 190,
   "metadata": {},
   "outputs": [
    {
     "data": {
      "text/html": [
       "<div>\n",
       "<style scoped>\n",
       "    .dataframe tbody tr th:only-of-type {\n",
       "        vertical-align: middle;\n",
       "    }\n",
       "\n",
       "    .dataframe tbody tr th {\n",
       "        vertical-align: top;\n",
       "    }\n",
       "\n",
       "    .dataframe thead th {\n",
       "        text-align: right;\n",
       "    }\n",
       "</style>\n",
       "<table border=\"1\" class=\"dataframe\">\n",
       "  <thead>\n",
       "    <tr style=\"text-align: right;\">\n",
       "      <th></th>\n",
       "      <th>default_ind</th>\n",
       "      <th>loan_amnt</th>\n",
       "      <th>term</th>\n",
       "      <th>int_rate</th>\n",
       "      <th>installment</th>\n",
       "      <th>grade</th>\n",
       "      <th>sub_grade</th>\n",
       "      <th>emp_length</th>\n",
       "      <th>home_ownership</th>\n",
       "      <th>annual_inc</th>\n",
       "      <th>verification_status</th>\n",
       "      <th>purpose</th>\n",
       "      <th>dti</th>\n",
       "      <th>delinq_2yrs</th>\n",
       "      <th>inq_last_6mths</th>\n",
       "      <th>mths_since_last_delinq</th>\n",
       "      <th>open_acc</th>\n",
       "      <th>pub_rec</th>\n",
       "      <th>revol_bal</th>\n",
       "      <th>revol_util</th>\n",
       "      <th>total_acc</th>\n",
       "      <th>initial_list_status</th>\n",
       "      <th>total_pymnt</th>\n",
       "      <th>tot_coll_amt</th>\n",
       "      <th>tot_cur_bal</th>\n",
       "      <th>total_rev_hi_lim</th>\n",
       "      <th>cred_hist_len_years</th>\n",
       "    </tr>\n",
       "  </thead>\n",
       "  <tbody>\n",
       "    <tr>\n",
       "      <td>0</td>\n",
       "      <td>0</td>\n",
       "      <td>0.705882</td>\n",
       "      <td>0.0</td>\n",
       "      <td>0.000000</td>\n",
       "      <td>0.510655</td>\n",
       "      <td>0.000000</td>\n",
       "      <td>0.00</td>\n",
       "      <td>0.1</td>\n",
       "      <td>0.000000</td>\n",
       "      <td>0.741803</td>\n",
       "      <td>0.0</td>\n",
       "      <td>0.2</td>\n",
       "      <td>0.255710</td>\n",
       "      <td>0.0</td>\n",
       "      <td>0.0</td>\n",
       "      <td>0.000000</td>\n",
       "      <td>0.372090</td>\n",
       "      <td>0.0</td>\n",
       "      <td>0.663218</td>\n",
       "      <td>0.220207</td>\n",
       "      <td>0.084848</td>\n",
       "      <td>1.0</td>\n",
       "      <td>0.616041</td>\n",
       "      <td>0.000000</td>\n",
       "      <td>0.847510</td>\n",
       "      <td>0.665432</td>\n",
       "      <td>0.727273</td>\n",
       "    </tr>\n",
       "    <tr>\n",
       "      <td>1</td>\n",
       "      <td>0</td>\n",
       "      <td>0.500000</td>\n",
       "      <td>1.0</td>\n",
       "      <td>0.598226</td>\n",
       "      <td>0.311996</td>\n",
       "      <td>0.666667</td>\n",
       "      <td>0.84</td>\n",
       "      <td>0.7</td>\n",
       "      <td>0.666667</td>\n",
       "      <td>0.741803</td>\n",
       "      <td>0.0</td>\n",
       "      <td>0.4</td>\n",
       "      <td>0.254154</td>\n",
       "      <td>0.0</td>\n",
       "      <td>0.2</td>\n",
       "      <td>0.000000</td>\n",
       "      <td>0.604261</td>\n",
       "      <td>1.0</td>\n",
       "      <td>0.641759</td>\n",
       "      <td>0.210881</td>\n",
       "      <td>0.139394</td>\n",
       "      <td>1.0</td>\n",
       "      <td>0.534333</td>\n",
       "      <td>0.319914</td>\n",
       "      <td>0.685802</td>\n",
       "      <td>0.648262</td>\n",
       "      <td>0.636364</td>\n",
       "    </tr>\n",
       "    <tr>\n",
       "      <td>2</td>\n",
       "      <td>0</td>\n",
       "      <td>0.176471</td>\n",
       "      <td>0.0</td>\n",
       "      <td>0.091677</td>\n",
       "      <td>0.132548</td>\n",
       "      <td>0.000000</td>\n",
       "      <td>0.12</td>\n",
       "      <td>1.0</td>\n",
       "      <td>0.000000</td>\n",
       "      <td>0.683727</td>\n",
       "      <td>0.0</td>\n",
       "      <td>0.2</td>\n",
       "      <td>0.286996</td>\n",
       "      <td>1.0</td>\n",
       "      <td>0.2</td>\n",
       "      <td>0.617398</td>\n",
       "      <td>0.457565</td>\n",
       "      <td>0.0</td>\n",
       "      <td>0.621969</td>\n",
       "      <td>0.125389</td>\n",
       "      <td>0.181818</td>\n",
       "      <td>1.0</td>\n",
       "      <td>0.000000</td>\n",
       "      <td>0.000000</td>\n",
       "      <td>0.713304</td>\n",
       "      <td>0.662213</td>\n",
       "      <td>0.727273</td>\n",
       "    </tr>\n",
       "    <tr>\n",
       "      <td>3</td>\n",
       "      <td>0</td>\n",
       "      <td>0.558824</td>\n",
       "      <td>0.0</td>\n",
       "      <td>0.534432</td>\n",
       "      <td>0.489374</td>\n",
       "      <td>0.500000</td>\n",
       "      <td>0.72</td>\n",
       "      <td>0.7</td>\n",
       "      <td>0.000000</td>\n",
       "      <td>0.753150</td>\n",
       "      <td>0.0</td>\n",
       "      <td>0.4</td>\n",
       "      <td>0.354160</td>\n",
       "      <td>0.0</td>\n",
       "      <td>0.0</td>\n",
       "      <td>0.000000</td>\n",
       "      <td>0.522295</td>\n",
       "      <td>0.0</td>\n",
       "      <td>0.738310</td>\n",
       "      <td>0.477202</td>\n",
       "      <td>0.157576</td>\n",
       "      <td>1.0</td>\n",
       "      <td>0.000000</td>\n",
       "      <td>0.469876</td>\n",
       "      <td>0.818705</td>\n",
       "      <td>0.686792</td>\n",
       "      <td>0.797980</td>\n",
       "    </tr>\n",
       "    <tr>\n",
       "      <td>4</td>\n",
       "      <td>0</td>\n",
       "      <td>0.411765</td>\n",
       "      <td>0.0</td>\n",
       "      <td>0.070553</td>\n",
       "      <td>0.305912</td>\n",
       "      <td>0.000000</td>\n",
       "      <td>0.08</td>\n",
       "      <td>0.2</td>\n",
       "      <td>0.000000</td>\n",
       "      <td>0.712050</td>\n",
       "      <td>0.0</td>\n",
       "      <td>0.2</td>\n",
       "      <td>0.300076</td>\n",
       "      <td>0.0</td>\n",
       "      <td>0.2</td>\n",
       "      <td>0.000000</td>\n",
       "      <td>0.403704</td>\n",
       "      <td>0.0</td>\n",
       "      <td>0.645760</td>\n",
       "      <td>0.223834</td>\n",
       "      <td>0.078788</td>\n",
       "      <td>1.0</td>\n",
       "      <td>0.000000</td>\n",
       "      <td>0.000000</td>\n",
       "      <td>0.825247</td>\n",
       "      <td>0.648262</td>\n",
       "      <td>0.757576</td>\n",
       "    </tr>\n",
       "  </tbody>\n",
       "</table>\n",
       "</div>"
      ],
      "text/plain": [
       "   default_ind  loan_amnt  term  int_rate  installment     grade  sub_grade  \\\n",
       "0            0   0.705882   0.0  0.000000     0.510655  0.000000       0.00   \n",
       "1            0   0.500000   1.0  0.598226     0.311996  0.666667       0.84   \n",
       "2            0   0.176471   0.0  0.091677     0.132548  0.000000       0.12   \n",
       "3            0   0.558824   0.0  0.534432     0.489374  0.500000       0.72   \n",
       "4            0   0.411765   0.0  0.070553     0.305912  0.000000       0.08   \n",
       "\n",
       "   emp_length  home_ownership  annual_inc  verification_status  purpose  \\\n",
       "0         0.1        0.000000    0.741803                  0.0      0.2   \n",
       "1         0.7        0.666667    0.741803                  0.0      0.4   \n",
       "2         1.0        0.000000    0.683727                  0.0      0.2   \n",
       "3         0.7        0.000000    0.753150                  0.0      0.4   \n",
       "4         0.2        0.000000    0.712050                  0.0      0.2   \n",
       "\n",
       "        dti  delinq_2yrs  inq_last_6mths  mths_since_last_delinq  open_acc  \\\n",
       "0  0.255710          0.0             0.0                0.000000  0.372090   \n",
       "1  0.254154          0.0             0.2                0.000000  0.604261   \n",
       "2  0.286996          1.0             0.2                0.617398  0.457565   \n",
       "3  0.354160          0.0             0.0                0.000000  0.522295   \n",
       "4  0.300076          0.0             0.2                0.000000  0.403704   \n",
       "\n",
       "   pub_rec  revol_bal  revol_util  total_acc  initial_list_status  \\\n",
       "0      0.0   0.663218    0.220207   0.084848                  1.0   \n",
       "1      1.0   0.641759    0.210881   0.139394                  1.0   \n",
       "2      0.0   0.621969    0.125389   0.181818                  1.0   \n",
       "3      0.0   0.738310    0.477202   0.157576                  1.0   \n",
       "4      0.0   0.645760    0.223834   0.078788                  1.0   \n",
       "\n",
       "   total_pymnt  tot_coll_amt  tot_cur_bal  total_rev_hi_lim  \\\n",
       "0     0.616041      0.000000     0.847510          0.665432   \n",
       "1     0.534333      0.319914     0.685802          0.648262   \n",
       "2     0.000000      0.000000     0.713304          0.662213   \n",
       "3     0.000000      0.469876     0.818705          0.686792   \n",
       "4     0.000000      0.000000     0.825247          0.648262   \n",
       "\n",
       "   cred_hist_len_years  \n",
       "0             0.727273  \n",
       "1             0.636364  \n",
       "2             0.727273  \n",
       "3             0.797980  \n",
       "4             0.757576  "
      ]
     },
     "execution_count": 190,
     "metadata": {},
     "output_type": "execute_result"
    }
   ],
   "source": [
    "df_test.head()"
   ]
  },
  {
   "cell_type": "code",
   "execution_count": 43,
   "metadata": {},
   "outputs": [
    {
     "data": {
      "text/plain": [
       "((598978, 29), (256991, 29), (598978,), (256991,))"
      ]
     },
     "execution_count": 43,
     "metadata": {},
     "output_type": "execute_result"
    }
   ],
   "source": [
    "X_train.shape,X_test.shape,y_train.shape,y_test.shape"
   ]
  },
  {
   "cell_type": "code",
   "execution_count": 101,
   "metadata": {},
   "outputs": [
    {
     "data": {
      "text/plain": [
       "0    256680\n",
       "1       311\n",
       "Name: default_ind, dtype: int64"
      ]
     },
     "execution_count": 101,
     "metadata": {},
     "output_type": "execute_result"
    }
   ],
   "source": [
    "y_test.value_counts()"
   ]
  },
  {
   "cell_type": "code",
   "execution_count": 44,
   "metadata": {},
   "outputs": [
    {
     "data": {
      "text/plain": [
       "1    552822\n",
       "0    552822\n",
       "Name: default_ind, dtype: int64"
      ]
     },
     "execution_count": 44,
     "metadata": {},
     "output_type": "execute_result"
    }
   ],
   "source": [
    "from imblearn.over_sampling import SMOTE\n",
    "\n",
    "smote = SMOTE()\n",
    "\n",
    "# fit predictor and target variable\n",
    "X_train, y_train = smote.fit_resample(X_train, y_train)\n",
    "y_train.value_counts()\n"
   ]
  },
  {
   "cell_type": "code",
   "execution_count": null,
   "metadata": {},
   "outputs": [],
   "source": [
    "#Tried different sampling techniques:\n",
    "#TomekLinks is an expensive algo since it take long processingtime as it has to calculate distance between classes and in our case it was taking forever so had to stop the kernel\n",
    "#Randomundersampler and NearMiss performs poorly\n",
    "#SMOTE seems to work fine\n",
    "#lofistic regression performs poorly when it comes to differentiate between classes in case of highly imbalanced data and needs sampling to improve performance\n",
    "#Tree techniques have better deifferentiating capability and doesnt need sampling even if data is highly imbalanced"
   ]
  },
  {
   "cell_type": "code",
   "execution_count": 7,
   "metadata": {},
   "outputs": [
    {
     "data": {
      "text/plain": [
       "SelectKBest()"
      ]
     },
     "execution_count": 7,
     "metadata": {},
     "output_type": "execute_result"
    }
   ],
   "source": [
    "X_new=SelectKBest(f_classif,k=10).fit(X_train,y_train)\n",
    "X_new"
   ]
  },
  {
   "cell_type": "code",
   "execution_count": 8,
   "metadata": {},
   "outputs": [
    {
     "data": {
      "text/plain": [
       "Index(['int_rate', 'grade', 'sub_grade', 'inq_last_6mths',\n",
       "       'initial_list_status', 'total_pymnt', 'recoveries', 'last_pymnt_amnt',\n",
       "       'tot_cur_bal', 'total_rev_hi_lim'],\n",
       "      dtype='object')"
      ]
     },
     "execution_count": 8,
     "metadata": {},
     "output_type": "execute_result"
    }
   ],
   "source": [
    "mask = X_new.get_support()\n",
    "new_features = X_train.columns[mask]\n",
    "new_features"
   ]
  },
  {
   "cell_type": "code",
   "execution_count": 9,
   "metadata": {},
   "outputs": [],
   "source": [
    "X_train=X_train[new_features]\n",
    "X_test=X_test[new_features]"
   ]
  },
  {
   "cell_type": "code",
   "execution_count": 10,
   "metadata": {},
   "outputs": [],
   "source": [
    "def clf_report(clf, X_train, y_train, X_test, y_test):\n",
    "    \"\"\"\n",
    "    fits a classifer from sklearn and returns a dataframe\n",
    "    clf(sklearn): classifier\n",
    "    X_train(numpy): train features\n",
    "    y_train(numpy): predictions row vector\n",
    "    X_test(numpy): test features\n",
    "    y_test(numpy): ground truth row vector\n",
    "    name(string): name of classifier\n",
    "    \n",
    "    \"\"\"\n",
    "    #fit to train data\n",
    "    clf.fit(X_train, y_train)\n",
    "    #make predictions\n",
    "    pred = clf.predict(X_test)\n",
    "    #make dataframe from report\n",
    "    confusion=confusion_matrix(y_test,pred)\n",
    "    TP = confusion[1, 1]\n",
    "    TN = confusion[0, 0]\n",
    "    FP = confusion[0, 1]\n",
    "    FN = confusion[1, 0] \n",
    "    #add clf name as column\n",
    "    print('Accuracy : ',accuracy_score(y_test,pred))\n",
    "    print('\\n')\n",
    "    print('Precision Score : ',precision_score(y_test,pred))\n",
    "    print('\\n')\n",
    "    print('Sensitivity/Recall Score/TPR : ',recall_score(y_test,pred))\n",
    "    print('\\n')\n",
    "    specificity = TN / (TN + FP)\n",
    "    print('Specificity : ',specificity,'\\n')\n",
    "    print('FPR : ',(1-specificity),'\\n')\n",
    "    print('F1-Score : ',f1_score(y_test,pred))\n",
    "    print('\\n')\n",
    "    print('Classification Error : ',(1-(accuracy_score(y_test,pred))),'\\n')\n",
    "    print('Confusion Matrix : \\n',confusion_matrix(y_test,pred))\n",
    "    print('\\n')\n",
    "    print('Classification Report : \\n',classification_report(y_test,pred))\n",
    "    print('\\n')\n",
    "    print('ROC AUC Score : ',roc_auc_score(y_test,pred))\n"
   ]
  },
  {
   "cell_type": "code",
   "execution_count": 19,
   "metadata": {},
   "outputs": [],
   "source": [
    "#ROC dict for TPR and FPR values\n",
    "roc_dict = {}\n",
    "def plot_roc(clf, y_test, X_test):\n",
    "    \"\"\"\n",
    "    modifies a dictionary in place and adds keys for ROC metrics\n",
    "    \"\"\"\n",
    "    \n",
    "    fpr, tpr, thresholds = roc_curve(y_test,\n",
    "                                     clf.predict_proba(X_test)[:,1],\n",
    "                                     pos_label=1)\n",
    "    plt.plot(fpr,tpr,color='blue',label='ROC')\n",
    "    plt.plot([0,1],[0,1],color='green',linestyle='--')\n",
    "    plt.xlabel('False Positive Rate')\n",
    "    plt.ylabel('True Positive Rate')\n",
    "    \n",
    "    "
   ]
  },
  {
   "cell_type": "code",
   "execution_count": 70,
   "metadata": {},
   "outputs": [],
   "source": [
    "## Logistic Regression\n",
    "\n",
    "logic=LogisticRegression(penalty=\"l2\",\n",
    "                         C=0.5,\n",
    "                         fit_intercept=True,\n",
    "                         random_state=0,\n",
    "                         max_iter=10000,\n",
    "                         solver='lbfgs')"
   ]
  },
  {
   "cell_type": "code",
   "execution_count": 12,
   "metadata": {},
   "outputs": [],
   "source": [
    "logic = LogisticRegression(penalty=\"l2\",\n",
    "                              C=0.5,\n",
    "                              fit_intercept=True,\n",
    "                              class_weight='balanced',\n",
    "                              random_state=0,\n",
    "                              max_iter=10000,\n",
    "                              solver='lbfgs')"
   ]
  },
  {
   "cell_type": "code",
   "execution_count": 13,
   "metadata": {},
   "outputs": [
    {
     "name": "stdout",
     "output_type": "stream",
     "text": [
      "Accuracy :  0.5825690393827021\n",
      "\n",
      "\n",
      "Precision Score :  0.0025577826349811655\n",
      "\n",
      "\n",
      "Sensitivity/Recall Score/TPR :  0.8842443729903537\n",
      "\n",
      "\n",
      "Specificity :  0.5822035218949665 \n",
      "\n",
      "FPR :  0.4177964781050335 \n",
      "\n",
      "F1-Score :  0.00510081056516981\n",
      "\n",
      "\n",
      "Classification Error :  0.4174309606172979 \n",
      "\n",
      "Confusion Matrix : \n",
      " [[149440 107240]\n",
      " [    36    275]]\n",
      "\n",
      "\n",
      "Classification Report : \n",
      "               precision    recall  f1-score   support\n",
      "\n",
      "           0       1.00      0.58      0.74    256680\n",
      "           1       0.00      0.88      0.01       311\n",
      "\n",
      "    accuracy                           0.58    256991\n",
      "   macro avg       0.50      0.73      0.37    256991\n",
      "weighted avg       1.00      0.58      0.73    256991\n",
      "\n",
      "\n",
      "\n",
      "ROC AUC Score :  0.7332239474426602\n"
     ]
    }
   ],
   "source": [
    "clf_report(logic, X_train, y_train, X_test, y_test)"
   ]
  },
  {
   "cell_type": "code",
   "execution_count": 20,
   "metadata": {},
   "outputs": [
    {
     "data": {
      "image/png": "[encoded data removed]",
      "text/plain": [
       "<Figure size 432x288 with 1 Axes>"
      ]
     },
     "metadata": {
      "needs_background": "light"
     },
     "output_type": "display_data"
    }
   ],
   "source": [
    "plot_roc(logic, y_test, X_test)"
   ]
  },
  {
   "cell_type": "code",
   "execution_count": 21,
   "metadata": {},
   "outputs": [],
   "source": [
    "#Random Forest\n",
    "from sklearn.ensemble import RandomForestClassifier"
   ]
  },
  {
   "cell_type": "code",
   "execution_count": 22,
   "metadata": {},
   "outputs": [],
   "source": [
    "rf=RandomForestClassifier(n_estimators=100,criterion='gini', \n",
    "                          oob_score=False,\n",
    "                          max_features=2,min_samples_leaf=3,\n",
    "                          random_state=0)"
   ]
  },
  {
   "cell_type": "code",
   "execution_count": 23,
   "metadata": {},
   "outputs": [
    {
     "name": "stdout",
     "output_type": "stream",
     "text": [
      "Accuracy :  0.6230334914452257\n",
      "\n",
      "\n",
      "Precision Score :  0.0028623792755503386\n",
      "\n",
      "\n",
      "Sensitivity/Recall Score/TPR :  0.8938906752411575\n",
      "\n",
      "\n",
      "Specificity :  0.6227053140096618 \n",
      "\n",
      "FPR :  0.3772946859903382 \n",
      "\n",
      "F1-Score :  0.005706485482331448\n",
      "\n",
      "\n",
      "Classification Error :  0.3769665085547743 \n",
      "\n",
      "Confusion Matrix : \n",
      " [[159836  96844]\n",
      " [    33    278]]\n",
      "\n",
      "\n",
      "Classification Report : \n",
      "               precision    recall  f1-score   support\n",
      "\n",
      "           0       1.00      0.62      0.77    256680\n",
      "           1       0.00      0.89      0.01       311\n",
      "\n",
      "    accuracy                           0.62    256991\n",
      "   macro avg       0.50      0.76      0.39    256991\n",
      "weighted avg       1.00      0.62      0.77    256991\n",
      "\n",
      "\n",
      "\n",
      "ROC AUC Score :  0.7582979946254097\n"
     ]
    }
   ],
   "source": [
    "clf_report(rf, X_train, y_train, X_test, y_test)"
   ]
  },
  {
   "cell_type": "code",
   "execution_count": 24,
   "metadata": {},
   "outputs": [
    {
     "data": {
      "image/png": "[encoded data removed]",
      "text/plain": [
       "<Figure size 432x288 with 1 Axes>"
      ]
     },
     "metadata": {
      "needs_background": "light"
     },
     "output_type": "display_data"
    }
   ],
   "source": [
    "plot_roc(rf, y_test, X_test)"
   ]
  },
  {
   "cell_type": "code",
   "execution_count": 52,
   "metadata": {},
   "outputs": [
    {
     "name": "stdout",
     "output_type": "stream",
     "text": [
      "Accuracy :  0.6607702215252674\n",
      "\n",
      "\n",
      "Precision Score :  0.0027931681853564723\n",
      "\n",
      "\n",
      "Sensitivity/Recall Score/TPR :  0.7845659163987139\n",
      "\n",
      "\n",
      "Specificity :  0.6606202275206483 \n",
      "\n",
      "FPR :  0.3393797724793517 \n",
      "\n",
      "F1-Score :  0.005566518758483808\n",
      "\n",
      "\n",
      "Classification Error :  0.33922977847473257 \n",
      "\n",
      "Confusion Matrix : \n",
      " [[169568  87112]\n",
      " [    67    244]]\n",
      "\n",
      "\n",
      "Classification Report : \n",
      "               precision    recall  f1-score   support\n",
      "\n",
      "           0       1.00      0.66      0.80    256680\n",
      "           1       0.00      0.78      0.01       311\n",
      "\n",
      "    accuracy                           0.66    256991\n",
      "   macro avg       0.50      0.72      0.40    256991\n",
      "weighted avg       1.00      0.66      0.79    256991\n",
      "\n",
      "\n",
      "\n",
      "ROC AUC Score :  0.7225930719596811\n"
     ]
    }
   ],
   "source": [
    "clf_report(rf, X_train, y_train, X_test, y_test)"
   ]
  },
  {
   "cell_type": "code",
   "execution_count": 25,
   "metadata": {},
   "outputs": [],
   "source": [
    "gbtree = GradientBoostingClassifier(learning_rate=0.1, n_estimators = 100)"
   ]
  },
  {
   "cell_type": "code",
   "execution_count": 26,
   "metadata": {},
   "outputs": [
    {
     "name": "stdout",
     "output_type": "stream",
     "text": [
      "Accuracy :  0.6381079493056178\n",
      "\n",
      "\n",
      "Precision Score :  0.0028426766213983825\n",
      "\n",
      "\n",
      "Sensitivity/Recall Score/TPR :  0.8520900321543409\n",
      "\n",
      "\n",
      "Specificity :  0.6378486831852891 \n",
      "\n",
      "FPR :  0.3621513168147109 \n",
      "\n",
      "F1-Score :  0.005666449274587579\n",
      "\n",
      "\n",
      "Classification Error :  0.36189205069438224 \n",
      "\n",
      "Confusion Matrix : \n",
      " [[163723  92957]\n",
      " [    46    265]]\n",
      "\n",
      "\n",
      "Classification Report : \n",
      "               precision    recall  f1-score   support\n",
      "\n",
      "           0       1.00      0.64      0.78    256680\n",
      "           1       0.00      0.85      0.01       311\n",
      "\n",
      "    accuracy                           0.64    256991\n",
      "   macro avg       0.50      0.74      0.39    256991\n",
      "weighted avg       1.00      0.64      0.78    256991\n",
      "\n",
      "\n",
      "\n",
      "ROC AUC Score :  0.7449693576698151\n"
     ]
    }
   ],
   "source": [
    "clf_report(gbtree, X_train, y_train, X_test, y_test)"
   ]
  },
  {
   "cell_type": "code",
   "execution_count": 27,
   "metadata": {},
   "outputs": [
    {
     "data": {
      "image/png": "[encoded data removed]",
      "text/plain": [
       "<Figure size 432x288 with 1 Axes>"
      ]
     },
     "metadata": {
      "needs_background": "light"
     },
     "output_type": "display_data"
    }
   ],
   "source": [
    "plot_roc(gbtree, y_test, X_test)"
   ]
  },
  {
   "cell_type": "code",
   "execution_count": 54,
   "metadata": {},
   "outputs": [
    {
     "name": "stdout",
     "output_type": "stream",
     "text": [
      "Accuracy :  0.5723079796568752\n",
      "\n",
      "\n",
      "Precision Score :  0.0024152396171936005\n",
      "\n",
      "\n",
      "Sensitivity/Recall Score/TPR :  0.8553054662379421\n",
      "\n",
      "\n",
      "Specificity :  0.571965092722456 \n",
      "\n",
      "FPR :  0.428034907277544 \n",
      "\n",
      "F1-Score :  0.0048168771786862245\n",
      "\n",
      "\n",
      "Classification Error :  0.4276920203431248 \n",
      "\n",
      "Confusion Matrix : \n",
      " [[146812 109868]\n",
      " [    45    266]]\n",
      "\n",
      "\n",
      "Classification Report : \n",
      "               precision    recall  f1-score   support\n",
      "\n",
      "           0       1.00      0.57      0.73    256680\n",
      "           1       0.00      0.86      0.00       311\n",
      "\n",
      "    accuracy                           0.57    256991\n",
      "   macro avg       0.50      0.71      0.37    256991\n",
      "weighted avg       1.00      0.57      0.73    256991\n",
      "\n",
      "\n",
      "\n",
      "ROC AUC Score :  0.713635279480199\n"
     ]
    }
   ],
   "source": [
    "clf_report(gbtree, X_train, y_train, X_test, y_test)"
   ]
  },
  {
   "cell_type": "code",
   "execution_count": 28,
   "metadata": {},
   "outputs": [],
   "source": [
    "xgb_clf = xgb.XGBClassifier(n_estimators=300,\n",
    "                     subsample=0.9,\n",
    "                            n_jobs=-1)"
   ]
  },
  {
   "cell_type": "code",
   "execution_count": 29,
   "metadata": {},
   "outputs": [
    {
     "name": "stdout",
     "output_type": "stream",
     "text": [
      "Accuracy :  0.521963804179913\n",
      "\n",
      "\n",
      "Precision Score :  0.002306917503330409\n",
      "\n",
      "\n",
      "Sensitivity/Recall Score/TPR :  0.9131832797427653\n",
      "\n",
      "\n",
      "Specificity :  0.5214897927380396 \n",
      "\n",
      "FPR :  0.47851020726196036 \n",
      "\n",
      "F1-Score :  0.004602208736094118\n",
      "\n",
      "\n",
      "Classification Error :  0.47803619582008705 \n",
      "\n",
      "Confusion Matrix : \n",
      " [[133856 122824]\n",
      " [    27    284]]\n",
      "\n",
      "\n",
      "Classification Report : \n",
      "               precision    recall  f1-score   support\n",
      "\n",
      "           0       1.00      0.52      0.69    256680\n",
      "           1       0.00      0.91      0.00       311\n",
      "\n",
      "    accuracy                           0.52    256991\n",
      "   macro avg       0.50      0.72      0.35    256991\n",
      "weighted avg       1.00      0.52      0.68    256991\n",
      "\n",
      "\n",
      "\n",
      "ROC AUC Score :  0.7173365362404024\n"
     ]
    }
   ],
   "source": [
    "clf_report(xgb_clf, X_train, y_train, X_test, y_test)"
   ]
  },
  {
   "cell_type": "code",
   "execution_count": 30,
   "metadata": {},
   "outputs": [
    {
     "data": {
      "image/png": "[encoded data removed]",
      "text/plain": [
       "<Figure size 432x288 with 1 Axes>"
      ]
     },
     "metadata": {
      "needs_background": "light"
     },
     "output_type": "display_data"
    }
   ],
   "source": [
    "plot_roc(xgb_clf, y_test, X_test)"
   ]
  },
  {
   "cell_type": "code",
   "execution_count": 56,
   "metadata": {},
   "outputs": [
    {
     "name": "stdout",
     "output_type": "stream",
     "text": [
      "Accuracy :  0.6085699499204252\n",
      "\n",
      "\n",
      "Precision Score :  0.0025891572838648877\n",
      "\n",
      "\n",
      "Sensitivity/Recall Score/TPR :  0.8392282958199357\n",
      "\n",
      "\n",
      "Specificity :  0.6082904784167056 \n",
      "\n",
      "FPR :  0.3917095215832944 \n",
      "\n",
      "F1-Score :  0.00516238775268009\n",
      "\n",
      "\n",
      "Classification Error :  0.39143005007957477 \n",
      "\n",
      "Confusion Matrix : \n",
      " [[156136 100544]\n",
      " [    50    261]]\n",
      "\n",
      "\n",
      "Classification Report : \n",
      "               precision    recall  f1-score   support\n",
      "\n",
      "           0       1.00      0.61      0.76    256680\n",
      "           1       0.00      0.84      0.01       311\n",
      "\n",
      "    accuracy                           0.61    256991\n",
      "   macro avg       0.50      0.72      0.38    256991\n",
      "weighted avg       1.00      0.61      0.76    256991\n",
      "\n",
      "\n",
      "\n",
      "ROC AUC Score :  0.7237593871183206\n"
     ]
    }
   ],
   "source": [
    "clf_report(xgb_clf, X_train, y_train, X_test, y_test)"
   ]
  },
  {
   "cell_type": "code",
   "execution_count": 31,
   "metadata": {},
   "outputs": [],
   "source": [
    "knn = KNeighborsClassifier(n_neighbors =5, n_jobs=-1)"
   ]
  },
  {
   "cell_type": "code",
   "execution_count": 32,
   "metadata": {},
   "outputs": [
    {
     "name": "stdout",
     "output_type": "stream",
     "text": [
      "Accuracy :  0.7353059056542837\n",
      "\n",
      "\n",
      "Precision Score :  0.003519422814658396\n",
      "\n",
      "\n",
      "Sensitivity/Recall Score/TPR :  0.7717041800643086\n",
      "\n",
      "\n",
      "Specificity :  0.7352618045815802 \n",
      "\n",
      "FPR :  0.2647381954184198 \n",
      "\n",
      "F1-Score :  0.007006890108606796\n",
      "\n",
      "\n",
      "Classification Error :  0.26469409434571634 \n",
      "\n",
      "Confusion Matrix : \n",
      " [[188727  67953]\n",
      " [    71    240]]\n",
      "\n",
      "\n",
      "Classification Report : \n",
      "               precision    recall  f1-score   support\n",
      "\n",
      "           0       1.00      0.74      0.85    256680\n",
      "           1       0.00      0.77      0.01       311\n",
      "\n",
      "    accuracy                           0.74    256991\n",
      "   macro avg       0.50      0.75      0.43    256991\n",
      "weighted avg       1.00      0.74      0.85    256991\n",
      "\n",
      "\n",
      "\n",
      "ROC AUC Score :  0.7534829923229444\n"
     ]
    }
   ],
   "source": [
    "clf_report(knn, X_train, y_train, X_test, y_test)"
   ]
  },
  {
   "cell_type": "code",
   "execution_count": 33,
   "metadata": {},
   "outputs": [
    {
     "data": {
      "image/png": "[encoded data removed]",
      "text/plain": [
       "<Figure size 432x288 with 1 Axes>"
      ]
     },
     "metadata": {
      "needs_background": "light"
     },
     "output_type": "display_data"
    }
   ],
   "source": [
    "plot_roc(knn, y_test, X_test)"
   ]
  }
 ],
 "metadata": {
  "kernelspec": {
   "display_name": "Python 3",
   "language": "python",
   "name": "python3"
  },
  "language_info": {
   "codemirror_mode": {
    "name": "ipython",
    "version": 3
   },
   "file_extension": ".py",
   "mimetype": "text/x-python",
   "name": "python",
   "nbconvert_exporter": "python",
   "pygments_lexer": "ipython3",
   "version": "3.7.4"
  }
 },
 "nbformat": 4,
 "nbformat_minor": 2
}
